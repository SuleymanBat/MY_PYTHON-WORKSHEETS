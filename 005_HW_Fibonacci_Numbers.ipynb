{
 "cells":[
  {
   "cell_type": "markdown",
   "id": "31cf4cdc",
   "metadata": {},
   "source": [
    "Task : Create a list consisting of Fibonacci numbers from 1 to 55 using control flow statements and range() function.\n",
    "\n",
    "The desired output is like this:\n",
    "\n",
    "fibonacci →  [1, 1, 2, 3, 5, 8, 13, 21, 34, 55]"
   ]
  },
  {
   "cell_type": "code",
   "execution_count": null,
   "id": "cf2919e2",
   "metadata": {},
   "outputs": [],
   "source": [
    "a,b = 0,1\n",
    "\n",
    "fibonacci_list=[b]\n",
    "\n",
    "for i in range(1,55):\n",
    "\n",
    "    a,b = b, a+b\n",
    "\n",
    "    if b<= 55:\n",
    "\n",
    "        fibonacci_list.append(b)\n",
    "\n",
    "print(fibonacci_list)\n",
    "\n"
   ]
  }
 ],
 "metadata": {
  "kernelspec": {
   "display_name": "Python 3",
   "language": "python",
   "name": "python3"
  },
  "language_info": {
   "codemirror_mode": {
    "name": "ipython",
    "version": 3
   },
   "file_extension": ".py",
   "mimetype": "text/x-python",
   "name": "python",
   "nbconvert_exporter": "python",
   "pygments_lexer": "ipython3",
   "version": "3.8.8"
  }
 },
 "nbformat": 4,
 "nbformat_minor": 5
}
