{
  "cells": [
    {
      "cell_type": "markdown",
      "metadata": {
        "id": "view-in-github",
        "colab_type": "text"
      },
      "source": [
        "<a href=\"https://colab.research.google.com/github/SuleymanBat/MY_PYTHON-WORKSHEETS/blob/master/Python_Tasks_and_answers.ipynb\" target=\"_parent\"><img src=\"https://colab.research.google.com/assets/colab-badge.svg\" alt=\"Open In Colab\"/></a>"
      ]
    },
    {
      "cell_type": "markdown",
      "id": "759da657",
      "metadata": {
        "id": "759da657"
      },
      "source": [
        "Task:\n",
        "\n",
        "Find out if a given number is an \"Armstrong Number\".\n",
        "An n-digit number that is the sum of the nth powers of its digits is called an n-Armstrong number. \n",
        "Write a Python program that;\n",
        "takes a positive integer number from the user,\n",
        "checks the entered number if it is Armstrong,\n",
        "consider the negative, float and any entries other than numeric values then display a warning message to the user.\n",
        "\n",
        "Sample inputs\tOutputs\n",
        "407\t      is an Armstrong number\n",
        "5\t      is an Armstrong number\n",
        " -153\t  It is an invalid entry. Don't use non-numeric, float, or negative values!\n",
        " 153.87   It is an invalid entry. Don't use non-numeric, float, or negative values!\n",
        " one\t  It is an invalid entry. Don't use non-numeric, float, or negative values!\n",
        " 121\t  121 is not an Armstrong number\n"
      ]
    },
    {
      "cell_type": "code",
      "execution_count": null,
      "id": "8429b4b2",
      "metadata": {
        "id": "8429b4b2"
      },
      "outputs": [],
      "source": [
        "while True:\n",
        "    number = input(\"enter a positive integer number : \")\n",
        "    digits = len(number)\n",
        "    summ = 0\n",
        "\n",
        "    if not number.isdigit():\n",
        "        print(number, \" is invalid entry. Enter valid input!\")\n",
        "\n",
        "    elif int(number) >= 0 :\n",
        "        for i in range(digits):\n",
        "            summ == summ + int(number[i]) ** digits\n",
        "\n",
        "        if summ == int(number):\n",
        "            print(number, \" is an Armstrong Number.\")\n",
        "            break\n",
        "        else :\n",
        "            print(number, \" is not an Armstrong Number.Sorry\")\n",
        "            break\n"
      ]
    },
    {
      "cell_type": "markdown",
      "id": "7e0d7063",
      "metadata": {
        "id": "7e0d7063"
      },
      "source": [
        "Task : Write a program that takes a number from the user and prints the result to check if it is a prime number.\n",
        "\n",
        "The examples of the desired output are as follows :\n",
        "\n",
        "input →  19 ⇉ output : 19 is a prime number\n",
        "input →  10 ⇉ output : 10 is not a prime number\n"
      ]
    },
    {
      "cell_type": "code",
      "execution_count": null,
      "id": "634d9f07",
      "metadata": {
        "id": "634d9f07"
      },
      "outputs": [],
      "source": [
        "kolla = int(input(\"Enter a positive number to check if it is a prime number : \"))\n",
        "count = 0\n",
        "\n",
        "for i in range(1, kolla+1):\n",
        "    if kolla % i == 0:\n",
        "        count += 1\n",
        "if (kolla == 0) or (kolla == 1) or (kolla >= 3):\n",
        "    print(kolla, \" is not a Prime number!\")\n",
        "else:\n",
        "    print(kolla, \" is a Prime number\")"
      ]
    },
    {
      "cell_type": "code",
      "execution_count": null,
      "id": "23740c5e",
      "metadata": {
        "id": "23740c5e",
        "outputId": "ae064164-4481-4e7e-df16-bc6eb44ac73e"
      },
      "outputs": [
        {
          "data": {
            "text/plain": [
              "27"
            ]
          },
          "execution_count": 9,
          "metadata": {},
          "output_type": "execute_result"
        }
      ],
      "source": [
        "(lambda x : x ** 3)(3)"
      ]
    },
    {
      "cell_type": "code",
      "execution_count": null,
      "id": "660ce20d",
      "metadata": {
        "id": "660ce20d",
        "outputId": "552fb004-c1ef-44f9-d05e-a0420324af2f"
      },
      "outputs": [
        {
          "data": {
            "text/plain": [
              "4.0"
            ]
          },
          "execution_count": 10,
          "metadata": {},
          "output_type": "execute_result"
        }
      ],
      "source": [
        "(lambda a, b : (a + b) / (a - b))(5, 3)"
      ]
    },
    {
      "cell_type": "code",
      "execution_count": null,
      "id": "6141c00c",
      "metadata": {
        "id": "6141c00c"
      },
      "outputs": [],
      "source": [
        "average = (lambda x, y : (x + y)/2)(3, 5)"
      ]
    },
    {
      "cell_type": "code",
      "execution_count": null,
      "id": "a4af0222",
      "metadata": {
        "id": "a4af0222",
        "outputId": "6ee527a7-0fbf-4900-958e-4e9335c1ff21"
      },
      "outputs": [
        {
          "name": "stdout",
          "output_type": "stream",
          "text": [
            "4.0\n"
          ]
        }
      ],
      "source": [
        "print(average)"
      ]
    },
    {
      "cell_type": "code",
      "execution_count": null,
      "id": "4bf956f0",
      "metadata": {
        "id": "4bf956f0",
        "outputId": "ca032ac9-6464-47f2-98a4-403c3ffb72dd"
      },
      "outputs": [
        {
          "name": "stdout",
          "output_type": "stream",
          "text": [
            "16.5\n"
          ]
        }
      ],
      "source": [
        "multiply = lambda a, b : a * b/2\n",
        "print(multiply(11, 3))"
      ]
    },
    {
      "cell_type": "code",
      "execution_count": null,
      "id": "32e90180",
      "metadata": {
        "id": "32e90180",
        "outputId": "476d26d2-3526-447e-f8c3-738fb2f77ad2"
      },
      "outputs": [
        {
          "name": "stdout",
          "output_type": "stream",
          "text": [
            "hellohellohello\n"
          ]
        }
      ],
      "source": [
        "echo_world = lambda x : x\n",
        "print(echo_world('hello' * 3))"
      ]
    },
    {
      "cell_type": "code",
      "execution_count": null,
      "id": "01eacac0",
      "metadata": {
        "id": "01eacac0",
        "outputId": "f9a1a4fb-9842-4260-83c9-cae2679028f8"
      },
      "outputs": [
        {
          "name": "stdout",
          "output_type": "stream",
          "text": [
            "<class 'map'>\n",
            "[1, 4, 9, 16, 25]\n",
            "[1, 4, 9, 16, 25]\n"
          ]
        }
      ],
      "source": [
        "iter = [1,2,3,4,5]\n",
        "\n",
        "ret = map(lambda x:x**2, iter)\n",
        "print(type(ret))\n",
        "print(list(ret))\n",
        "\n",
        "print(list(map(lambda x:x**2, iter)))"
      ]
    },
    {
      "cell_type": "code",
      "execution_count": null,
      "id": "a6f979c2",
      "metadata": {
        "id": "a6f979c2",
        "outputId": "39c09a36-7eef-4557-d786-5de490874caf"
      },
      "outputs": [
        {
          "name": "stdout",
          "output_type": "stream",
          "text": [
            "['one', 'six', 'ten', 'two']\n"
          ]
        }
      ],
      "source": [
        "letter1 = ['o', 's', 't', 't']\n",
        "letter2 = ['n', 'i', 'e', 'w']\n",
        "letter3 = ['e', 'x', 'n', 'o']\n",
        "\n",
        "numbers= map(lambda x, y, z: x+y+z, letter1, letter2, letter3)\n",
        "print(list(numbers))"
      ]
    },
    {
      "cell_type": "code",
      "execution_count": null,
      "id": "9709581c",
      "metadata": {
        "id": "9709581c",
        "outputId": "96504aa3-5549-4d09-fd36-095df83df1c1"
      },
      "outputs": [
        {
          "name": "stdout",
          "output_type": "stream",
          "text": [
            "[3, 6, 9, 12, 15]\n"
          ]
        }
      ],
      "source": [
        "number_list=[1, 2, 3, 4, 5]\n",
        "\n",
        "print(list(map(lambda x:x * 3, number_list)))"
      ]
    },
    {
      "cell_type": "code",
      "execution_count": null,
      "id": "ebeb1d50",
      "metadata": {
        "id": "ebeb1d50",
        "outputId": "15c7a57b-6505-49d6-8aff-b52d0f972551"
      },
      "outputs": [
        {
          "name": "stdout",
          "output_type": "stream",
          "text": [
            "<class 'filter'>\n",
            "E v e n   n u m b e r s   a r e   :   [0, 2, 4, 6, 8]\n"
          ]
        }
      ],
      "source": [
        "first_ten = [0, 1, 2, 3, 4, 5, 6, 7, 8, 9] \n",
        "\n",
        "even = filter(lambda x:x % 2 == 0, first_ten)\n",
        "print(type(even))\n",
        "print(*\"Even numbers are : \", list(even))"
      ]
    },
    {
      "cell_type": "code",
      "execution_count": null,
      "id": "4926e674",
      "metadata": {
        "id": "4926e674",
        "outputId": "f7e0bf9b-c0f1-45d9-cdac-2d6c880cfec0"
      },
      "outputs": [
        {
          "name": "stdout",
          "output_type": "stream",
          "text": [
            "<class 'filter'>\n",
            "['a', 'e', 'i']\n"
          ]
        }
      ],
      "source": [
        "vowel_list = ['a', 'e', 'i', 'o', 'u']\n",
        "first_ten = ['a', 'b', 'c', 'd', 'e', 'f', 'g', 'h', 'i', 'j']\n",
        "\n",
        "vowels = filter(lambda x:True if x in vowel_list else False, first_ten)\n",
        "print(type(vowels))\n",
        "print(list(vowels))"
      ]
    },
    {
      "cell_type": "code",
      "execution_count": null,
      "id": "3dff2ee3",
      "metadata": {
        "id": "3dff2ee3",
        "outputId": "d50c43c7-7b27-468a-963c-1b9355607249"
      },
      "outputs": [
        {
          "name": "stdout",
          "output_type": "stream",
          "text": [
            "<class 'filter'>\n",
            "[6, 7, 8, 9, 10]\n"
          ]
        }
      ],
      "source": [
        "number_list=[1, 2, 3, 4, 5, 6, 7, 8, 9, 10]\n",
        "convert = filter(lambda x: True if x >= 6 else False, number_list)\n",
        "print(type(convert))\n",
        "print(list(convert))"
      ]
    },
    {
      "cell_type": "code",
      "execution_count": null,
      "id": "90362ebb",
      "metadata": {
        "id": "90362ebb",
        "outputId": "6a085931-9595-429b-9baf-d41b9fe189cf"
      },
      "outputs": [
        {
          "name": "stdout",
          "output_type": "stream",
          "text": [
            "125\n"
          ]
        }
      ],
      "source": [
        "def modular_function(n):\n",
        "    return lambda x: x ** n\n",
        "\n",
        "power_of_3 = modular_function(3)\n",
        "print(power_of_3(5))"
      ]
    },
    {
      "cell_type": "code",
      "execution_count": null,
      "id": "38340c37",
      "metadata": {
        "id": "38340c37",
        "outputId": "8d002d2a-1f5f-4f75-cdef-94d50a0bd8ff"
      },
      "outputs": [
        {
          "name": "stdout",
          "output_type": "stream",
          "text": [
            "125\n"
          ]
        }
      ],
      "source": [
        "print((lambda x: x**3)(5))"
      ]
    },
    {
      "cell_type": "code",
      "execution_count": null,
      "id": "eb31f3aa",
      "metadata": {
        "id": "eb31f3aa",
        "outputId": "08d07c4d-168e-400d-b20c-72239cd00075"
      },
      "outputs": [
        {
          "name": "stdout",
          "output_type": "stream",
          "text": [
            "9.0\n"
          ]
        }
      ],
      "source": [
        "mean = lambda x, y: (x+y)/2\n",
        "print(mean(8, 10))"
      ]
    },
    {
      "cell_type": "code",
      "execution_count": null,
      "id": "3544d8f8",
      "metadata": {
        "id": "3544d8f8",
        "outputId": "353007e2-7568-4d00-dda8-ce722b1ab75e"
      },
      "outputs": [
        {
          "name": "stdout",
          "output_type": "stream",
          "text": [
            "45\n"
          ]
        }
      ],
      "source": [
        "multiply = lambda x: x * 4\n",
        "add = lambda x, y: x + y\n",
        "print(add(multiply(10), 5))"
      ]
    },
    {
      "cell_type": "code",
      "execution_count": null,
      "id": "ac20b43b",
      "metadata": {
        "id": "ac20b43b",
        "outputId": "1bb2e8db-62bd-40e3-f0a6-2cefdef5d0f4"
      },
      "outputs": [
        {
          "name": "stdout",
          "output_type": "stream",
          "text": [
            "[1, 8, 27, 64]\n"
          ]
        }
      ],
      "source": [
        "number_list = [1, 2, 3, 4]\n",
        "result = map(lambda x:x**3, number_list)\n",
        "print(list(result)) "
      ]
    },
    {
      "cell_type": "code",
      "execution_count": null,
      "id": "be9dd884",
      "metadata": {
        "id": "be9dd884",
        "outputId": "b16df421-1089-49d3-89bb-7ff021149075"
      },
      "outputs": [
        {
          "name": "stdout",
          "output_type": "stream",
          "text": [
            "25\n"
          ]
        }
      ],
      "source": [
        "square = lambda x:x**2\n",
        "print(square(5))"
      ]
    },
    {
      "cell_type": "code",
      "execution_count": null,
      "id": "0120cffb",
      "metadata": {
        "id": "0120cffb"
      },
      "outputs": [],
      "source": [
        "number_list=[1, 2, 3, 4, 5, 6, 7, 8, 9, 10]\n",
        "\n",
        "result= list(filter(lambda x : \"odd\" if x % 2 == 1 else \"even\", number_list))"
      ]
    },
    {
      "cell_type": "code",
      "execution_count": null,
      "id": "54ce2abe",
      "metadata": {
        "id": "54ce2abe"
      },
      "outputs": [],
      "source": [
        "generate = (i ** 2 for i in range(6))"
      ]
    },
    {
      "cell_type": "code",
      "execution_count": null,
      "id": "1e03a9a9",
      "metadata": {
        "id": "1e03a9a9",
        "outputId": "a638ca45-8468-4e53-ff9d-78fe032d1304"
      },
      "outputs": [
        {
          "name": "stdout",
          "output_type": "stream",
          "text": [
            "0\n"
          ]
        }
      ],
      "source": [
        "print(next(generate))"
      ]
    },
    {
      "cell_type": "code",
      "execution_count": null,
      "id": "8d3a7fac",
      "metadata": {
        "id": "8d3a7fac",
        "outputId": "3f7f14cf-9825-4d60-e6c9-36bc7cd8eb6b"
      },
      "outputs": [
        {
          "name": "stdout",
          "output_type": "stream",
          "text": [
            "1\n"
          ]
        }
      ],
      "source": [
        "print(next(generate))"
      ]
    },
    {
      "cell_type": "code",
      "execution_count": null,
      "id": "ef0a6624",
      "metadata": {
        "id": "ef0a6624",
        "outputId": "e5fe7d0f-f9e6-4ed7-bf2a-590f7ab1bac2"
      },
      "outputs": [
        {
          "name": "stdout",
          "output_type": "stream",
          "text": [
            "4\n"
          ]
        }
      ],
      "source": [
        "print(next(generate))"
      ]
    },
    {
      "cell_type": "code",
      "execution_count": null,
      "id": "4fc4178c",
      "metadata": {
        "id": "4fc4178c",
        "outputId": "a4dbf392-451f-40b4-8bba-e553b19baa58"
      },
      "outputs": [
        {
          "name": "stdout",
          "output_type": "stream",
          "text": [
            "True\n",
            "False\n",
            "True\n"
          ]
        }
      ],
      "source": [
        "names = [\"susuan\", \"tom\", \"False\"]\n",
        "mood = [\"happy\", \"sad\", 0]\n",
        "empty = {}\n",
        "\n",
        "print(all(names), all(mood), all(empty), sep=\"\\n\")"
      ]
    },
    {
      "cell_type": "code",
      "execution_count": null,
      "id": "8a73cf45",
      "metadata": {
        "id": "8a73cf45"
      },
      "outputs": [],
      "source": [
        "def add(a, b):\n",
        "    print(a + b)"
      ]
    },
    {
      "cell_type": "code",
      "execution_count": null,
      "id": "dc7c5592",
      "metadata": {
        "id": "dc7c5592",
        "outputId": "2a478233-1ba9-473a-f4a1-24b2394c762f"
      },
      "outputs": [
        {
          "name": "stdout",
          "output_type": "stream",
          "text": [
            "16\n"
          ]
        }
      ],
      "source": [
        "add(5,11)"
      ]
    },
    {
      "cell_type": "code",
      "execution_count": null,
      "id": "fd1cf890",
      "metadata": {
        "id": "fd1cf890",
        "outputId": "baa4324d-d2aa-461e-9211-56d092996b32"
      },
      "outputs": [
        {
          "name": "stdout",
          "output_type": "stream",
          "text": [
            "9\n"
          ]
        }
      ],
      "source": [
        "def calculator(x, y, opr):\n",
        "    if opr == \"+\" :\n",
        "        print(x + y)\n",
        "\n",
        "    elif opr == \"-\" :\n",
        "        print(x-y)\n",
        "    \n",
        "    elif opr == \"*\" :\n",
        "        print(x * y)\n",
        "\n",
        "    elif opr == \"/\" :\n",
        "        print(x / y)\n",
        "\n",
        "    else:\n",
        "        print(\"Enter a valid operator\")\n",
        "\n",
        "calculator(4,5,\"+\")"
      ]
    },
    {
      "cell_type": "code",
      "execution_count": null,
      "id": "308197b0",
      "metadata": {
        "id": "308197b0",
        "outputId": "94bd6c78-a92f-4dd1-dfd4-47f2da6c147b"
      },
      "outputs": [
        {
          "data": {
            "text/plain": [
              "int"
            ]
          },
          "execution_count": 85,
          "metadata": {},
          "output_type": "execute_result"
        }
      ],
      "source": [
        "type(3 +5)"
      ]
    },
    {
      "cell_type": "code",
      "execution_count": null,
      "id": "4cb28c77",
      "metadata": {
        "id": "4cb28c77",
        "outputId": "e97b4132-2b78-4bdd-8c14-3d64a614d020"
      },
      "outputs": [
        {
          "name": "stdout",
          "output_type": "stream",
          "text": [
            "iloveyou"
          ]
        }
      ],
      "source": [
        "a = \"i\"\n",
        "b = \"love\"\n",
        "c = \"you\"\n",
        "\n",
        "def texter(a, b, c):\n",
        "    print(b + c + a, end=\"\")\n",
        "\n",
        "\n",
        "texter(c, a, b)"
      ]
    }
  ],
  "metadata": {
    "colab": {
      "collapsed_sections": [],
      "name": "Python_Tasks and answers.ipynb",
      "provenance": [],
      "include_colab_link": true
    },
    "hide_input": false,
    "kernelspec": {
      "display_name": "Python 3 (ipykernel)",
      "language": "python",
      "name": "python3"
    },
    "language_info": {
      "codemirror_mode": {
        "name": "ipython",
        "version": 3
      },
      "file_extension": ".py",
      "mimetype": "text/x-python",
      "name": "python",
      "nbconvert_exporter": "python",
      "pygments_lexer": "ipython3",
      "version": "3.10.2"
    },
    "nbTranslate": {
      "displayLangs": [
        "tr",
        "en"
      ],
      "hotkey": "alt-t",
      "langInMainMenu": true,
      "sourceLang": "en",
      "targetLang": "tr",
      "useGoogleTranslate": true
    },
    "toc": {
      "base_numbering": 1,
      "nav_menu": {},
      "number_sections": true,
      "sideBar": true,
      "skip_h1_title": false,
      "title_cell": "Table of Contents",
      "title_sidebar": "Contents",
      "toc_cell": false,
      "toc_position": {
        "height": "calc(100% - 180px)",
        "left": "10px",
        "top": "150px",
        "width": "165px"
      },
      "toc_section_display": true,
      "toc_window_display": true
    },
    "varInspector": {
      "cols": {
        "lenName": 16,
        "lenType": 16,
        "lenVar": 40
      },
      "kernels_config": {
        "python": {
          "delete_cmd_postfix": "",
          "delete_cmd_prefix": "del ",
          "library": "var_list.py",
          "varRefreshCmd": "print(var_dic_list())"
        },
        "r": {
          "delete_cmd_postfix": ") ",
          "delete_cmd_prefix": "rm(",
          "library": "var_list.r",
          "varRefreshCmd": "cat(var_dic_list()) "
        }
      },
      "types_to_exclude": [
        "module",
        "function",
        "builtin_function_or_method",
        "instance",
        "_Feature"
      ],
      "window_display": false
    }
  },
  "nbformat": 4,
  "nbformat_minor": 5
}