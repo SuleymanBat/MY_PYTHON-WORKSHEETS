{
  "nbformat": 4,
  "nbformat_minor": 0,
  "metadata": {
    "colab": {
      "name": "Date/Datetime/Factorial.ipynb",
      "private_outputs": true,
      "provenance": [],
      "authorship_tag": "ABX9TyPS2AgXFGeKa1ECCIoFiRE7",
      "include_colab_link": true
    },
    "kernelspec": {
      "name": "python3",
      "display_name": "Python 3"
    },
    "language_info": {
      "name": "python"
    }
  },
  "cells": [
    {
      "cell_type": "markdown",
      "metadata": {
        "id": "view-in-github",
        "colab_type": "text"
      },
      "source": [
        "<a href=\"https://colab.research.google.com/github/SuleymanBat/MY_PYTHON-WORKSHEETS/blob/master/Date_Datetime_Factorial.ipynb\" target=\"_parent\"><img src=\"https://colab.research.google.com/assets/colab-badge.svg\" alt=\"Open In Colab\"/></a>"
      ]
    },
    {
      "cell_type": "code",
      "execution_count": null,
      "metadata": {
        "id": "MksgBVJnCLlv"
      },
      "outputs": [],
      "source": [
        "def power(g):\n",
        "  return g * g\n",
        "\n",
        "print(power(3))"
      ]
    },
    {
      "cell_type": "code",
      "source": [
        "pwd"
      ],
      "metadata": {
        "id": "yXZwkNHvCeLx"
      },
      "execution_count": null,
      "outputs": []
    },
    {
      "cell_type": "code",
      "source": [
        "import math"
      ],
      "metadata": {
        "id": "gATf8JhqEHu1"
      },
      "execution_count": null,
      "outputs": []
    },
    {
      "cell_type": "code",
      "source": [
        "print(dir(math))"
      ],
      "metadata": {
        "id": "JyTu5HyYEZfd"
      },
      "execution_count": null,
      "outputs": []
    },
    {
      "cell_type": "code",
      "source": [
        "print(math.__spec__)"
      ],
      "metadata": {
        "id": "TpfDjlYHEdcO"
      },
      "execution_count": null,
      "outputs": []
    },
    {
      "cell_type": "markdown",
      "source": [
        "TASK:\n",
        "\n",
        "Let's import pi. factorial and log10 functions from math module. Print the value of pi, 4! and log10 of 1000 using these functions.**bold text**"
      ],
      "metadata": {
        "id": "Zmjn6g5ME11l"
      }
    },
    {
      "cell_type": "code",
      "source": [
        "from math import pi, log10, factorial"
      ],
      "metadata": {
        "id": "jjRTLUqsErEW"
      },
      "execution_count": null,
      "outputs": []
    },
    {
      "cell_type": "code",
      "source": [
        "print(math.pi)"
      ],
      "metadata": {
        "id": "-fMP4ch_FV5X"
      },
      "execution_count": null,
      "outputs": []
    },
    {
      "cell_type": "code",
      "source": [
        "factorial(4)"
      ],
      "metadata": {
        "id": "WDwqEw3xFZOO"
      },
      "execution_count": null,
      "outputs": []
    },
    {
      "cell_type": "markdown",
      "source": [
        "# The function of Factorial"
      ],
      "metadata": {
        "id": "PYG1uXRFG7MX"
      }
    },
    {
      "cell_type": "code",
      "source": [
        "result = 1\n",
        "\n",
        "for i in range(1,6):\n",
        "  result *= i"
      ],
      "metadata": {
        "id": "U0DGXUmiF6Kq"
      },
      "execution_count": null,
      "outputs": []
    },
    {
      "cell_type": "code",
      "source": [
        "result"
      ],
      "metadata": {
        "id": "NNB9QUkyHJeY"
      },
      "execution_count": null,
      "outputs": []
    },
    {
      "cell_type": "code",
      "source": [
        "def my_factorial(n):\n",
        "\n",
        "  result = 1\n",
        "\n",
        "  for i in range(1, n+1):\n",
        "    result *= i\n",
        "\n",
        "  if n == 0 or n==1:\n",
        "    return 1\n",
        "  else:\n",
        "    return result"
      ],
      "metadata": {
        "id": "1NhT9CB7HNUV"
      },
      "execution_count": null,
      "outputs": []
    },
    {
      "cell_type": "code",
      "source": [
        "my_factorial(0)"
      ],
      "metadata": {
        "id": "8XRBsnOuHzSP"
      },
      "execution_count": null,
      "outputs": []
    },
    {
      "cell_type": "code",
      "source": [
        "my_factorial(5)"
      ],
      "metadata": {
        "id": "jX8jnvulH18N"
      },
      "execution_count": null,
      "outputs": []
    },
    {
      "cell_type": "code",
      "source": [
        "def my_facto(n):\n",
        "\n",
        "  if n == 1 or n == 0:\n",
        "    return 1\n",
        "  else:\n",
        "    return n * my_facto(n-1)"
      ],
      "metadata": {
        "id": "ka-hkNZKH4eB"
      },
      "execution_count": null,
      "outputs": []
    },
    {
      "cell_type": "markdown",
      "source": [
        "TASK:\n",
        "\n",
        "Lets import punctuation and digits function from string module. Print the all punctuation marks and digits chars using these functions"
      ],
      "metadata": {
        "id": "zIPyFkh7I08Z"
      }
    },
    {
      "cell_type": "code",
      "source": [
        "import string as stg"
      ],
      "metadata": {
        "id": "JrlcceraIfvp"
      },
      "execution_count": null,
      "outputs": []
    },
    {
      "cell_type": "code",
      "source": [
        "print(stg.punctuation)"
      ],
      "metadata": {
        "id": "ic_P7ZKHJPMe"
      },
      "execution_count": null,
      "outputs": []
    },
    {
      "cell_type": "code",
      "source": [
        "stg.digits"
      ],
      "metadata": {
        "id": "nso8O5HHJSjF"
      },
      "execution_count": null,
      "outputs": []
    },
    {
      "cell_type": "code",
      "source": [
        "dir(stg)"
      ],
      "metadata": {
        "id": "IghAWqYqJZf1"
      },
      "execution_count": null,
      "outputs": []
    },
    {
      "cell_type": "markdown",
      "source": [
        "TASK:\n",
        "\n",
        "Lets import today function from date object and now function from datetime object all from datetime module, print the current date(yyyy-mm-dd) and time using these functions."
      ],
      "metadata": {
        "id": "XumBK-EFJkuj"
      }
    },
    {
      "cell_type": "code",
      "source": [
        "import datetime "
      ],
      "metadata": {
        "id": "l93hX0I9JenH"
      },
      "execution_count": null,
      "outputs": []
    },
    {
      "cell_type": "code",
      "source": [
        "from datetime import date"
      ],
      "metadata": {
        "id": "nfO7YqghKMGU"
      },
      "execution_count": null,
      "outputs": []
    },
    {
      "cell_type": "code",
      "source": [
        "print(datetime.date.today())"
      ],
      "metadata": {
        "id": "6NHkZiJvKS1M"
      },
      "execution_count": null,
      "outputs": []
    },
    {
      "cell_type": "code",
      "source": [
        "print(datetime.datetime.now())"
      ],
      "metadata": {
        "id": "ck1OJodAK1bF"
      },
      "execution_count": null,
      "outputs": []
    },
    {
      "cell_type": "markdown",
      "source": [
        "TASK:\n",
        "\n",
        "Using datetime module, write a program to calculate the following.\n",
        "\n",
        "According to the general acceptance, Alex was born on 22 April 571 AD, and died on 8 June 632 AD. How many days have he lived in his life?"
      ],
      "metadata": {
        "id": "qbhWf4cOLscF"
      }
    },
    {
      "cell_type": "code",
      "source": [
        "from datetime import date"
      ],
      "metadata": {
        "id": "qbNwsx-ILZ71"
      },
      "execution_count": null,
      "outputs": []
    },
    {
      "cell_type": "code",
      "source": [
        "date(571, 4, 22)"
      ],
      "metadata": {
        "id": "VrM0L7vzMrf_"
      },
      "execution_count": null,
      "outputs": []
    },
    {
      "cell_type": "code",
      "source": [
        "birth = date(571, 4, 22)"
      ],
      "metadata": {
        "id": "uKLAmnuoM4Rc"
      },
      "execution_count": null,
      "outputs": []
    },
    {
      "cell_type": "code",
      "source": [
        "death = date(632, 6, 8)"
      ],
      "metadata": {
        "id": "7NMOTJt6M_VJ"
      },
      "execution_count": null,
      "outputs": []
    },
    {
      "cell_type": "code",
      "source": [
        "death - birth"
      ],
      "metadata": {
        "id": "VK9pTsNeNGgF"
      },
      "execution_count": null,
      "outputs": []
    },
    {
      "cell_type": "code",
      "source": [
        "life_day = date.toordinal(death) - date.toordinal(birth)\n",
        "life_day"
      ],
      "metadata": {
        "id": "mVSQ4GvWNMNE"
      },
      "execution_count": null,
      "outputs": []
    },
    {
      "cell_type": "code",
      "source": [
        ""
      ],
      "metadata": {
        "id": "ldDk081XNgCM"
      },
      "execution_count": null,
      "outputs": []
    }
  ]
}