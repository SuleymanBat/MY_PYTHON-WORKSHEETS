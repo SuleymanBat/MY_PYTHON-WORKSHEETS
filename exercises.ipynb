{
 "cells": [
  {
   "cell_type": "code",
   "execution_count": 3,
   "metadata": {},
   "outputs": [
    {
     "name": "stdout",
     "output_type": "stream",
     "text": [
      "41\n"
     ]
    }
   ],
   "source": [
    "q=[22,41,14,41,39,15]\n",
    "print(max(q))"
   ]
  },
  {
   "cell_type": "code",
   "execution_count": 17,
   "metadata": {},
   "outputs": [],
   "source": [
    "p=['j','x','n','k','e','x']"
   ]
  },
  {
   "cell_type": "code",
   "execution_count": 18,
   "metadata": {},
   "outputs": [
    {
     "name": "stdout",
     "output_type": "stream",
     "text": [
      "['j', 'x', 'n', 'x']\n"
     ]
    }
   ],
   "source": [
    "del(p[3:5])\n",
    "print(p)"
   ]
  },
  {
   "cell_type": "code",
   "execution_count": 23,
   "metadata": {},
   "outputs": [
    {
     "name": "stdout",
     "output_type": "stream",
     "text": [
      "(2, 4)\n"
     ]
    }
   ],
   "source": [
    "import numpy as np\n",
    "x=np.array([14,21,24,24])\n",
    "y=np.array([12,6,23,29])\n",
    "z=np.array([x,y])\n",
    "print(z.shape)"
   ]
  },
  {
   "cell_type": "code",
   "execution_count": 24,
   "metadata": {},
   "outputs": [
    {
     "name": "stdout",
     "output_type": "stream",
     "text": [
      "8\n"
     ]
    }
   ],
   "source": [
    "x=np.array([14,21,24,24])\n",
    "y=np.array([12,6,23,29])\n",
    "z=np.array([x,y])\n",
    "print(z.size)"
   ]
  },
  {
   "cell_type": "code",
   "execution_count": 26,
   "metadata": {},
   "outputs": [
    {
     "name": "stdout",
     "output_type": "stream",
     "text": [
      "[7]\n"
     ]
    }
   ],
   "source": [
    "store=np.array(['X','Z','Z','Z'])\n",
    "cost=np.array([7,1,9,4])\n",
    "select_cost=cost[store == 'X']\n",
    "print(select_cost)"
   ]
  },
  {
   "cell_type": "code",
   "execution_count": 27,
   "metadata": {},
   "outputs": [
    {
     "name": "stdout",
     "output_type": "stream",
     "text": [
      "[1 9 4]\n"
     ]
    }
   ],
   "source": [
    "store=np.array(['X','Z','Z','Z'])\n",
    "cost=np.array([7,1,9,4])\n",
    "select_cost=cost[store == 'Z']\n",
    "print(select_cost)"
   ]
  },
  {
   "cell_type": "code",
   "execution_count": 28,
   "metadata": {},
   "outputs": [
    {
     "name": "stdout",
     "output_type": "stream",
     "text": [
      "2\n"
     ]
    }
   ],
   "source": [
    "X=6\n",
    "Y=4\n",
    "print(X%Y)"
   ]
  },
  {
   "cell_type": "code",
   "execution_count": 29,
   "metadata": {},
   "outputs": [
    {
     "name": "stdout",
     "output_type": "stream",
     "text": [
      "1.5\n"
     ]
    }
   ],
   "source": [
    "X=6\n",
    "Y=4\n",
    "print(X/Y)"
   ]
  },
  {
   "cell_type": "code",
   "execution_count": 30,
   "metadata": {},
   "outputs": [
    {
     "name": "stdout",
     "output_type": "stream",
     "text": [
      "[[ 0 82]\n",
      " [ 9 82]\n",
      " [ 0 73]\n",
      " [ 1 73]]\n"
     ]
    }
   ],
   "source": [
    "store=np.array([0,9,0,1])\n",
    "cost=np.array([82,82,73,73])\n",
    "np_cols=np.column_stack((store,cost))\n",
    "print(np_cols)"
   ]
  },
  {
   "cell_type": "code",
   "execution_count": 31,
   "metadata": {},
   "outputs": [
    {
     "name": "stdout",
     "output_type": "stream",
     "text": [
      "B\n"
     ]
    }
   ],
   "source": [
    "p= [[3,'A',5],[2,6,'B'],['C','D','E']]\n",
    "print(p[1][2])"
   ]
  },
  {
   "cell_type": "code",
   "execution_count": 32,
   "metadata": {},
   "outputs": [
    {
     "name": "stdout",
     "output_type": "stream",
     "text": [
      "6\n"
     ]
    }
   ],
   "source": [
    "p= [[3,'A',5],[2,6,'B'],['C','D','E']]\n",
    "print(p[1][1])"
   ]
  },
  {
   "cell_type": "code",
   "execution_count": 33,
   "metadata": {},
   "outputs": [
    {
     "name": "stdout",
     "output_type": "stream",
     "text": [
      "[2, 6]\n"
     ]
    }
   ],
   "source": [
    "p= [[3,'A',5],[2,6,'B'],['C','D','E']]\n",
    "print(p[1][0:2])"
   ]
  },
  {
   "cell_type": "code",
   "execution_count": 34,
   "metadata": {},
   "outputs": [
    {
     "name": "stdout",
     "output_type": "stream",
     "text": [
      "Help on built-in function len in module builtins:\n",
      "\n",
      "len(obj, /)\n",
      "    Return the number of items in a container.\n",
      "\n"
     ]
    }
   ],
   "source": [
    "help(len)"
   ]
  },
  {
   "cell_type": "code",
   "execution_count": 36,
   "metadata": {},
   "outputs": [
    {
     "name": "stdout",
     "output_type": "stream",
     "text": [
      "8\n"
     ]
    }
   ],
   "source": [
    "p=8.32592\n",
    "print(int(p))"
   ]
  },
  {
   "cell_type": "markdown",
   "metadata": {},
   "source": [
    "For finding the correlation between x and y we should use 'np.corrcoef' function."
   ]
  },
  {
   "cell_type": "code",
   "execution_count": 39,
   "metadata": {},
   "outputs": [
    {
     "name": "stdout",
     "output_type": "stream",
     "text": [
      "[[ 1.         -0.81150267]\n",
      " [-0.81150267  1.        ]]\n"
     ]
    }
   ],
   "source": [
    "x=np.array([6,4,4,4])\n",
    "y=np.array([0,3,8,7])\n",
    "\n",
    "print(np.corrcoef(x,y))"
   ]
  },
  {
   "cell_type": "code",
   "execution_count": 40,
   "metadata": {},
   "outputs": [
    {
     "name": "stdout",
     "output_type": "stream",
     "text": [
      "Number of items in the list =  7\n"
     ]
    }
   ],
   "source": [
    "Easy = [\"Take\", \"Care\", \"of\", 111, 2, 3.33, 00]\n",
    "print (\"Number of items in the list = \", len(Easy))"
   ]
  },
  {
   "cell_type": "code",
   "execution_count": 41,
   "metadata": {},
   "outputs": [
    {
     "name": "stdout",
     "output_type": "stream",
     "text": [
      "[11, 21, 31, 'exam', 3.1321, 101]\n",
      "[11, 21, 31, 3.1321, 101]\n",
      "Popped Element:  21  List remaining:  [11, 31, 3.1321, 101]\n",
      "[]\n"
     ]
    }
   ],
   "source": [
    "list = [11, 21, 31, 'exam', 3.1321, 101, 301]\n",
    "del list[6] #delete element at index 6\n",
    "print(list)\n",
    "list.remove('exam') #remove element with value\n",
    "print(list)\n",
    "a = list.pop(1) #pop element from list\n",
    "print('Popped Element: ', a, ' List remaining: ', list)\n",
    "list.clear() #empty the list\n",
    "print(list)"
   ]
  },
  {
   "cell_type": "code",
   "execution_count": 43,
   "metadata": {},
   "outputs": [
    {
     "name": "stdout",
     "output_type": "stream",
     "text": [
      "10\n",
      "20\n",
      "30\n",
      "education\n",
      "(10, 20, 30, 'education')\n",
      "10\n",
      "(10, 20, 30, 'education')\n",
      "a\n"
     ]
    }
   ],
   "source": [
    "tuple = (10, 20, 30, 'education') #access elements\n",
    "for access in tuple:\n",
    "    print(access)\n",
    "print(tuple)\n",
    "print(tuple[0])\n",
    "print(tuple[:])\n",
    "print(tuple[3][4])"
   ]
  },
  {
   "cell_type": "code",
   "execution_count": 46,
   "metadata": {},
   "outputs": [],
   "source": [
    "list = [11, 21, 31, 'exam', 3.1321, 101, 301]\n",
    "del list[6] #delete element at index 6"
   ]
  },
  {
   "cell_type": "code",
   "execution_count": 47,
   "metadata": {},
   "outputs": [
    {
     "data": {
      "text/plain": [
       "[11, 21, 31, 'exam', 3.1321, 101]"
      ]
     },
     "execution_count": 47,
     "metadata": {},
     "output_type": "execute_result"
    }
   ],
   "source": [
    "list"
   ]
  },
  {
   "cell_type": "code",
   "execution_count": null,
   "metadata": {},
   "outputs": [],
   "source": []
  }
 ],
 "metadata": {
  "kernelspec": {
   "display_name": "Python 3",
   "language": "python",
   "name": "python3"
  },
  "language_info": {
   "codemirror_mode": {
    "name": "ipython",
    "version": 3
   },
   "file_extension": ".py",
   "mimetype": "text/x-python",
   "name": "python",
   "nbconvert_exporter": "python",
   "pygments_lexer": "ipython3",
   "version": "3.7.6"
  }
 },
 "nbformat": 4,
 "nbformat_minor": 4
}
