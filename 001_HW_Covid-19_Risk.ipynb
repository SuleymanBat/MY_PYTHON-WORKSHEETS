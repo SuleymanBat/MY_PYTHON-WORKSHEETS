{
 "cells":[
  {
   "cell_type": "markdown",
   "id": "042a23ad",
   "metadata": {},
   "source": [
    "Task : Estimating the risk of death from coronavirus. Write a program that;\n",
    "\n",
    "Takes \"Yes\" or \"No\" from the user as an answer to the following questions :\n",
    "\n",
    "Are you a cigarette addict older than 75 years old? Variable → age\n",
    "\n",
    "Do you have a severe chronic disease? Variable → chronic\n",
    "\n",
    "Is your immune system too weak? Variable → immune\n",
    "\n",
    "Set a logical algorithm using boolean logic operators (and/or) and use if-statements with the given variables in order to print out us a message : \"You are in risky group\"(if True ) or \"You are not in risky group\" (if False).\n",
    "age =  # can be assigned only True/False\n",
    "chronic =  # can be assigned only True/False\n",
    "immune =  # can be assigned only True/False\n",
    "risk = ?"
   ]
  },
  {
   "cell_type": "code",
   "execution_count": null,
   "id": "bd9215f9",
   "metadata": {},
   "outputs": [],
   "source": [
    "age = int(input(\"Please enter your age:  \"))\n",
    "\n",
    "chronic = input (\"Do you have any chronic diseases?  \")\n",
    "\n",
    "immune = input (\"Is your immune system bad ?  \")\n",
    "\n",
    "\n",
    "\n",
    "if age >= 75:\n",
    "\n",
    "    age_user = True\n",
    "\n",
    "else:\n",
    "\n",
    "    age_user = False\n",
    "\n",
    "if chronic.lower() == \"yes\":\n",
    "\n",
    "    chronic_info = True\n",
    "\n",
    "else:\n",
    "\n",
    "    chronic_info = False\n",
    "\n",
    "if immune.lower() == \"yes\" :\n",
    "\n",
    "    immune_info = True\n",
    "\n",
    "else:\n",
    "\n",
    "    immune_info = False\n",
    "\n",
    "    \n",
    "\n",
    "dead_risk = age_user or chronic_info or immune_info # Any of the three issues would lead to risk of death\n",
    "\n",
    "\n",
    "\n",
    "if dead_risk == True:\n",
    "\n",
    "    print (\"You are in risky group\")\n",
    "\n",
    "else:\n",
    "\n",
    "    print (\"You are not in risky group\")"
   ]
  }
 ],
 "metadata": {
  "kernelspec": {
   "display_name": "Python 3",
   "language": "python",
   "name": "python3"
  },
  "language_info": {
   "codemirror_mode": {
    "name": "ipython",
    "version": 3
   },
   "file_extension": ".py",
   "mimetype": "text/x-python",
   "name": "python",
   "nbconvert_exporter": "python",
   "pygments_lexer": "ipython3",
   "version": "3.8.8"
  }
 },
 "nbformat": 4,
 "nbformat_minor": 5
}
