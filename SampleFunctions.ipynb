{
 "cells": [
  {
   "cell_type": "markdown",
   "metadata": {},
   "source": [
    "Detaylar: \n",
    "\n",
    "4 matematiksel işlem için 4 ayrı fonksiyon yazınız. \n",
    "\n",
    "Kullanıcıdan input ile hangi işlemi yapmak istediğini alınız. (Toplama: 1, Çıkarma: 2, Çarpma: 3, Bölme:4) \n",
    "\n",
    "if yapısı ile inputtan gelen integer’a göre hangi fonksiyonun kullanılacağının seçimini yapınız. \n",
    "\n",
    "Yani “if == 1 ise toplama fonksiyonunu çalıştır” gibi. \n",
    "\n",
    "4 fonksiyon içinde bilgileri yine kullanıcıdan alınız. \n",
    "\n",
    "Scriptin adını calculate.py yapınız ve konsoldan çalıştırınız. \n",
    "\n",
    "Ekran görüntüsünü grubunuzdan paylaşınız"
   ]
  },
  {
   "cell_type": "code",
   "execution_count": null,
   "metadata": {},
   "outputs": [],
   "source": [
    "#this function adds two numbers\n",
    "def add(x,y):\n",
    "    return x + y\n",
    "#this function subtracts two numbers\n",
    "def subtract(x,y):\n",
    "    return x - y\n",
    "#this function multiply two numbers\n",
    "def multiply(x,y):\n",
    "    return x*y\n",
    "#this function divide two numbers\n",
    "def divide(x,y):\n",
    "    return x/y\n",
    "\n",
    "print('SELECT AN PROCESS')\n",
    "print('1.ADD')\n",
    "print('2.SUBTRACT')\n",
    "print('3.MULTIPLY')\n",
    "print('4.DIVIDE')\n",
    "\n",
    "while True:\n",
    "    #Take input from the user\n",
    "    ch = input('ENTER YOUR CHOICE(1/2/3/4): ')\n",
    "    #Check is choice is one of the four options\n",
    "    if ch in ('1','2','3','4'):\n",
    "        n1 = int(input('ENTER THE FIRST NUMBER: '))\n",
    "        n2 = int(input('ENTER THE SECOND NUMBER: '))\n",
    "        \n",
    "        if ch == '1':\n",
    "            print('RESULT', '=', add(n1,n2))\n",
    "        elif ch == '2':\n",
    "            print('RESULT', '=', subtract(n1,n2))\n",
    "        elif ch == '3':\n",
    "            print('RESULT', '=', multiply(n1,n2))\n",
    "        elif ch == '4':\n",
    "            print('RESULT', '=', divide(n1,n2))\n",
    "        break\n",
    "    else:\n",
    "        print('PLEASE ENTER VALID INPUT!')"
   ]
  },
  {
   "cell_type": "code",
   "execution_count": null,
   "metadata": {},
   "outputs": [],
   "source": []
  }
 ],
 "metadata": {
  "kernelspec": {
   "display_name": "Python 3",
   "language": "python",
   "name": "python3"
  },
  "language_info": {
   "codemirror_mode": {
    "name": "ipython",
    "version": 3
   },
   "file_extension": ".py",
   "mimetype": "text/x-python",
   "name": "python",
   "nbconvert_exporter": "python",
   "pygments_lexer": "ipython3",
   "version": "3.7.6"
  }
 },
 "nbformat": 4,
 "nbformat_minor": 4
}
